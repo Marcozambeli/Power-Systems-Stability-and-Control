{
  "nbformat": 4,
  "nbformat_minor": 0,
  "metadata": {
    "kernelspec": {
      "display_name": "Python 3",
      "language": "python",
      "name": "python3"
    },
    "language_info": {
      "codemirror_mode": {
        "name": "ipython",
        "version": 3
      },
      "file_extension": ".py",
      "mimetype": "text/x-python",
      "name": "python",
      "nbconvert_exporter": "python",
      "pygments_lexer": "ipython3",
      "version": "3.8.5"
    },
    "colab": {
      "name": "Cópia de Cálculo das Correntes de Curto-Circuito do Gerador Síncrono.ipynb",
      "private_outputs": true,
      "provenance": [],
      "collapsed_sections": [],
      "toc_visible": true,
      "include_colab_link": true
    }
  },
  "cells": [
    {
      "cell_type": "markdown",
      "metadata": {
        "id": "view-in-github",
        "colab_type": "text"
      },
      "source": [
        "<a href=\"https://colab.research.google.com/github/Marcozambeli/Power-Systems-Stability-and-Control/blob/main/C%C3%A1lculo_das_Correntes_de_Curto_Circuito_do_Gerador_S%C3%ADncrono.ipynb\" target=\"_parent\"><img src=\"https://colab.research.google.com/assets/colab-badge.svg\" alt=\"Open In Colab\"/></a>"
      ]
    },
    {
      "cell_type": "markdown",
      "metadata": {
        "id": "o2mMv62JuEv_"
      },
      "source": [
        "# Cálculo da Corrente de Curto-Circuito em um Gerador Síncrono"
      ]
    },
    {
      "cell_type": "markdown",
      "metadata": {
        "id": "0gnkYGLtuEwA"
      },
      "source": [
        "Nesse bloco de notas, objetiva-se o cálculo da corrente de curto-circuito em um gerador síncrono a partir das expressões de tensão e corrente obtidas a partir do circuito equivalente do gerador síncrono representado no sistema referencial $dq$.\n",
        "\n",
        "Para isso, empregaremos as bibliotecas **numpy**, **control** e **scipy.signal**. Para essa aplicação, a biblioteca **numpy** será empregada para a realização operações matemáticas e vetoriais, enquanto a biblioteca **control** proporcionará o ferramental necessário para realizar operações com funções de transferência no domínio de Laplace. Por fim, da biblioca **scipy.signal** empregaremos a rotina *residue* para a obtenção de polos e resíduos das funções de transferência associadas às correntes da máquina.\n",
        "\n",
        "Adicionalmente, empregaremos as bibliotecas **matplotlib** e **pandas** para a produção de gráficos e visualização de dados em forma de tabelas, respectivamente."
      ]
    },
    {
      "cell_type": "code",
      "metadata": {
        "id": "8twYqdmtuEwA"
      },
      "source": [
        "!pip install control\n",
        "import numpy as np\n",
        "import control as ctrl\n",
        "from scipy.signal import residue\n",
        "import matplotlib.pyplot as plt\n",
        "import pandas as pd\n",
        "pd.set_option(\"display.precision\", 4)"
      ],
      "execution_count": null,
      "outputs": []
    },
    {
      "cell_type": "markdown",
      "metadata": {
        "id": "w58xXxxq3O7-"
      },
      "source": [
        "Os comandos abaixo permitem o traçado de gráficos interativos que permitem mover as curvas e focar determidas regiões de interesse."
      ]
    },
    {
      "cell_type": "code",
      "metadata": {
        "id": "o6gwLYMD3CFN"
      },
      "source": [
        "# Obtenção de gráficos interativos\n",
        "makeInteractivePlots = False\n",
        "if makeInteractivePlots:\n",
        "  !pip install mpld3\n",
        "  import mpld3\n",
        "  mpld3.enable_notebook()"
      ],
      "execution_count": null,
      "outputs": []
    },
    {
      "cell_type": "markdown",
      "metadata": {
        "id": "Q9rHyOCeuEwB"
      },
      "source": [
        "## Entrada de dados\n",
        "\n",
        "Os dados aqui empregados referem-se a uma máquina síncrona de 1458 [MVA], 25 [kV] e 60 [Hz], como detalhados abaixo."
      ]
    },
    {
      "cell_type": "code",
      "metadata": {
        "id": "Z7kg5P_WuEwB"
      },
      "source": [
        "# Valores base da máquina\n",
        "MVAb = 1458.\n",
        "kVb = 25.\n",
        "Ib = MVAb/kVb/(np.sqrt(3))\n",
        "fb = 60.\n",
        "wb = 2*np.pi*fb\n",
        "Zb = kVb**2/MVAb\n",
        "Lb = Zb/wb\n",
        "\n",
        "# Indutâncias padronizadas\n",
        "Ld = 1.60*Lb\n",
        "Lq = 1.52*Lb\n",
        "L1d = 0.4690*Lb\n",
        "L1q = 0.8750*Lb\n",
        "L2d = 0.3190*Lb\n",
        "L2q = 0.3190*Lb\n",
        "Ll = 0.27*Lb\n",
        "\n",
        "# Constantes de tempo de circuito aberto\n",
        "T1do = 6.20\n",
        "T1qo = 2.00\n",
        "T2do = 0.054\n",
        "T2qo = 0.200\n",
        "\n",
        "# Constantes de tempo de curto-circuito\n",
        "T1d = L1d/Ld*T1do\n",
        "T2d = L2d/L1d*T2do\n",
        "T1q = L1q/Lq*T1qo\n",
        "T2q = L2q/L1q*T2qo\n",
        "\n",
        "# Parâmetros adicionais\n",
        "rs = 0.01*Zb\n",
        "vq0 = kVb"
      ],
      "execution_count": null,
      "outputs": []
    },
    {
      "cell_type": "markdown",
      "metadata": {
        "id": "vttxoyz5uEwB"
      },
      "source": [
        "## Definição das indutânicas operacionais da máquina\n",
        "\n",
        "De forma a simplificar o cálculo das indutâncias operacionais da máquina síncrona, definiremos primeiramente a frequência complexa $s$ de Laplace."
      ]
    },
    {
      "cell_type": "code",
      "metadata": {
        "id": "D-UE7lTMuEwC"
      },
      "source": [
        "s = ctrl.TransferFunction([1, 0],[1])"
      ],
      "execution_count": null,
      "outputs": []
    },
    {
      "cell_type": "markdown",
      "metadata": {
        "id": "iEq8HMw4uEwC"
      },
      "source": [
        "Agora, de acordo com as definições das indutâncias operacionais $L_d(s)$ e $L_q(s)$ dadas abaixo, podemos calculá-las empregando a variável complexa $s$, definida anteriormente.\n",
        "\\begin{align}\n",
        "L_d(s) &= L_d \\frac{(1+sT'_{d})(1+sT''_{d})}{(1+sT'_{d0})(1+sT''_{d0})} & \n",
        "L_q(s) &= L_q \\frac{(1+sT'_{q})(1+sT''_{q})}{(1+sT'_{q0})(1+sT''_{q0})}\n",
        "\\end{align} "
      ]
    },
    {
      "cell_type": "code",
      "metadata": {
        "id": "QI5LHPoTuEwC"
      },
      "source": [
        "Lds = Ld*(1+T1d*s)*(1+T2d*s)/(1+T1do*s)/(1+T2do*s)\n",
        "Lqs = Lq*(1+T1q*s)*(1+T2q*s)/(1+T1qo*s)/(1+T2qo*s)"
      ],
      "execution_count": null,
      "outputs": []
    },
    {
      "cell_type": "code",
      "metadata": {
        "id": "j0ZM2hEauEwC"
      },
      "source": [
        "Lds"
      ],
      "execution_count": null,
      "outputs": []
    },
    {
      "cell_type": "code",
      "metadata": {
        "id": "7xjFXVaTuEwD"
      },
      "source": [
        "Lqs"
      ],
      "execution_count": null,
      "outputs": []
    },
    {
      "cell_type": "markdown",
      "metadata": {
        "id": "NWGOa47GuEwD"
      },
      "source": [
        "Uma vez definidas as indutâncias operacionais $L_d(s)$ e $L_q(s)$, define-se as funções $V_d(s)$ e $V_q(s)$, de forma que representem apropriadamente o curto-circuito trifásico franco nos terminais da máquina. Como estudado, essas funções são definidas da seguinte forma:\n",
        "\n",
        "\\begin{align}\n",
        "V_q(s) &= -\\frac{v_{q0}}{s} &&& V_d(s) &= 0\n",
        "\\end{align}"
      ]
    },
    {
      "cell_type": "code",
      "metadata": {
        "id": "CIAzcccFuEwD"
      },
      "source": [
        "Vqs = -vq0/s\n",
        "Vds = 0"
      ],
      "execution_count": null,
      "outputs": []
    },
    {
      "cell_type": "markdown",
      "metadata": {
        "id": "vKLym3a1uEwD"
      },
      "source": [
        "Finalmente, pode-se calcular as correntes $I_d(s)$ e $I_q(s)$ através da solução dos circuitos equivalentes dos eixos $d$ e $q$.\n",
        "\n",
        "\\begin{align}\n",
        "\t\t\t\t\tI_d &= \\frac{\\phantom{-}\\omega_{b}L_{q}(s) V_{q}(s) - \\left(r_s + s L_{q}(s)\\right)V_{d}(s)}{\\Delta} \\\\\n",
        "\t\t\t\t\tI_q &= \\frac{- \\omega_{b} L_{d}(s) V_{d}(s) - \\left( r_{s} + s L_{d}(s)\\right)V_{q}(s)}{\\Delta} \\\\\n",
        "\t\t\t\t\t%\t\t\t\t\t\t\\Delta &= L_{d}(s) L_{q}(s) s^{2} + s\\,r_s \\left(L_{d}(s) + L_{q}(s)\\right) + \\\\ & \\qquad + \\left(r_{s}^{2} + \\omega_{b}^{2} L_{d}(s) L_{q}(s)\\right)\n",
        "\t\t\t\t\t\\Delta &= \\bigl(r_s + s L_{d}(s)\\bigr) \\bigl(r_{s} + s L_{q}(s)\\bigr)\\, + \\omega_{b}^{2} L_{d}(s) L_{q}(s)\n",
        "\\end{align}\n",
        "\n",
        "A função *minreal* é empregada no cálculo abaixo para o cancelamento de polos e zeros nas funções de transferência resultantes."
      ]
    },
    {
      "cell_type": "code",
      "metadata": {
        "id": "pRBj4kpAuEwE"
      },
      "source": [
        "iDelta = ctrl.minreal(1/((rs + s*Lds)*(rs + s*Lqs) + wb**2*Lds*Lqs))\n",
        "Ids = ctrl.minreal((wb*Lqs*Vqs - (rs + s*Lqs)*Vds)*iDelta)\n",
        "Iqs = ctrl.minreal((-wb*Lds*Vds - (rs + s*Lds)*Vqs)*iDelta)"
      ],
      "execution_count": null,
      "outputs": []
    },
    {
      "cell_type": "markdown",
      "metadata": {
        "id": "700q1S12uEwE"
      },
      "source": [
        "As funções de transferência para $I_d(s)$ e $I_q(s)$ são, então listadas abaixo."
      ]
    },
    {
      "cell_type": "code",
      "metadata": {
        "id": "99KpqHkouEwE"
      },
      "source": [
        "Ids"
      ],
      "execution_count": null,
      "outputs": []
    },
    {
      "cell_type": "code",
      "metadata": {
        "id": "KLSf-hZuuEwE"
      },
      "source": [
        "Iqs"
      ],
      "execution_count": null,
      "outputs": []
    },
    {
      "cell_type": "markdown",
      "metadata": {
        "id": "2clOj-EOuEwF"
      },
      "source": [
        "## Decomposição em frações parciais das correntes em Laplace"
      ]
    },
    {
      "cell_type": "markdown",
      "metadata": {
        "id": "1tLvjwKcuEwF"
      },
      "source": [
        "Cada função de transferência pode ser decomposta em frações parciais empregando-se a rotina *residue* da biblioteca *scipy.signal* como mostrado a seguir. A função *residue* retorna vetores de resíduos, polos e constantes de polinômio direto. Nos casos abordados aqui, as últimas constantes não são verificadas."
      ]
    },
    {
      "cell_type": "code",
      "metadata": {
        "id": "2wzCioaVuEwF"
      },
      "source": [
        "Id_r, Id_p, Id_k = residue(Ids.num[0][0], Ids.den[0][0])\n",
        "Iq_r, Iq_p, Iq_k = residue(Iqs.num[0][0], Iqs.den[0][0])"
      ],
      "execution_count": null,
      "outputs": []
    },
    {
      "cell_type": "markdown",
      "metadata": {
        "id": "OhE3VtYJuEwF"
      },
      "source": [
        "De forma a facilitar a visualização dos resultados, será montada uma tabela com o auxílio da biblioteca *pandas*."
      ]
    },
    {
      "cell_type": "code",
      "metadata": {
        "id": "zD0XaqYvuEwF"
      },
      "source": [
        "pf_Id = {'polos': Id_p, 'residuos':Id_r}\n",
        "df_Id = pd.DataFrame(pf_Id, index=np.arange(1,Id_r.size+1))\n",
        "df_Id"
      ],
      "execution_count": null,
      "outputs": []
    },
    {
      "cell_type": "code",
      "metadata": {
        "id": "0s00k6wruEwG"
      },
      "source": [
        "pf_Iq = {'polos': Iq_p, 'residuos':Iq_r}\n",
        "df_Iq = pd.DataFrame(pf_Iq, index=np.arange(1, Iq_r.size+1))\n",
        "df_Iq"
      ],
      "execution_count": null,
      "outputs": []
    },
    {
      "cell_type": "markdown",
      "metadata": {
        "id": "L-rBGXYxuEwG"
      },
      "source": [
        "## Traçado de gráficos para as correntes de curto no gerador síncrono\n",
        "\n",
        "Para visualizarmos as curvas no domínio do tempo associadas a $I_d(s)$ e $I_q(s)$ empregamos a função *impulse_response* da biblioteca **control** como indica abaixo. Essa função toma como argumentos de entrada a função de transferência desejada e um vetor com instantes de tempo para os quais a resposta ao impulso será calculada e retorna um vetor de instantes calculados e outro com a resposta ao impulso propriamente dita."
      ]
    },
    {
      "cell_type": "code",
      "metadata": {
        "id": "tGix0D8JuEwG"
      },
      "source": [
        "dt = 1e-5\n",
        "Tf = 1\n",
        "T = np.arange(0, Tf, dt)\n",
        "Tout, idt = ctrl.impulse_response(Ids, T)\n",
        "Tout, iqt = ctrl.impulse_response(Iqs, T)"
      ],
      "execution_count": null,
      "outputs": []
    },
    {
      "cell_type": "markdown",
      "metadata": {
        "id": "CfcgSOeGuEwG"
      },
      "source": [
        "De posse das correntes $i_d(t)$ e $i_q(t)$, podemos então calcular a corrente nos terminais da máquina $i_a(t)$ através da transformação de Park, como indicado abaixo. Note que, nessa expressão foi considerado um ângulo inicial $\\varphi_0$ para o ângulo da transformação de Park. Dessa forma, pode-se verificar a corrente de curto para diferentes instantes de aplicação do curto.\n",
        "\n",
        "\\begin{align}\n",
        "i_a(t) & = {\\displaystyle \\sqrt{\\frac{2}{3}}}\\,\\big[i_d(t)\\,\\cos\\left(\\omega_b t + \\varphi_0\\right) + i_q(t)\\,\\sin\\left(\\omega_b t + \\varphi_0\\right)\\big]\n",
        "\\end{align}"
      ]
    },
    {
      "cell_type": "code",
      "metadata": {
        "id": "v4DfBltvuEwG"
      },
      "source": [
        "ph0 = 0 #np.pi/2\n",
        "iat = np.sqrt(2/3)*(idt*np.cos(wb*T + ph0) + iqt*np.sin(wb*T + ph0))"
      ],
      "execution_count": null,
      "outputs": []
    },
    {
      "cell_type": "markdown",
      "metadata": {
        "id": "Kn9t9VlnuEwH"
      },
      "source": [
        "Após a realização dos cálculos podemos finalmente traçar os gráficos para as correntes obtidas, como se segue."
      ]
    },
    {
      "cell_type": "code",
      "metadata": {
        "scrolled": false,
        "id": "5L7yBnR5uEwH"
      },
      "source": [
        "# Criação da figura e eixos que conterão os gráficos\n",
        "fig = plt.figure(figsize=(8, 8))\n",
        "ax = fig.subplots(3, 1, sharex=True)\n",
        "\n",
        "# Traçado da corrente id(t)\n",
        "ax[0].plot(Tout, idt)\n",
        "ax[0].set_ylabel('$i_d(t)$ [A]')\n",
        "ax[0].grid(ls=':')\n",
        "\n",
        "# Traçado da corrente iq(t)\n",
        "ax[1].plot(Tout, iqt)\n",
        "ax[1].set_ylabel('$i_q(t)$ [A]')\n",
        "ax[1].grid(ls=':')\n",
        "\n",
        "# Traçado da corrente ia(t)\n",
        "ax[2].plot(Tout, iat)\n",
        "ax[2].set_ylabel('$i_a(t)$ [A]')\n",
        "ax[2].grid(ls=':')\n",
        "\n",
        "# Definição da legenda do eixo do tempo\n",
        "ax[-1].set_xlabel('tempo [s]')"
      ],
      "execution_count": null,
      "outputs": []
    },
    {
      "cell_type": "markdown",
      "metadata": {
        "id": "tm6TtidV8zfk"
      },
      "source": [
        "Na sequência é incluido o codigo para análise de Fourier de alguns períodos da corrente $i_a(t)$."
      ]
    },
    {
      "cell_type": "code",
      "metadata": {
        "scrolled": false,
        "id": "VKk_zeDGuEwH"
      },
      "source": [
        "# Análise da série de Fourier associada a ia(t)\n",
        "\n",
        "# Período da frequência fundamental e frequência de amostragem\n",
        "Tn = 1/fb                                                      \n",
        "samplingFrequency = 1/dt\n",
        "\n",
        "# Definição do número de períodos analisados a partir do fim da curva\n",
        "nper = min(int(Tf/Tn), 5)\n",
        "\n",
        "# Número de amostras por período\n",
        "nsamples_per_period = int(Tn/dt)\n",
        "\n",
        "# Construindo o sinal para análise\n",
        "signal = iat[-nper*nsamples_per_period:-1]\n",
        "\n",
        "# Cálculo da FFT\n",
        "fourierTransform = np.fft.fft(signal)/len(signal)              # Normalize amplitude\n",
        "fourierTransform = fourierTransform[range(int(len(signal)/2))] # Exclude sampling frequency\n",
        "\n",
        "# Construção do vetor de frequências\n",
        "tpCount     = len(signal)\n",
        "values      = np.arange(int(tpCount/2))\n",
        "timePeriod  = tpCount/samplingFrequency\n",
        "frequencies = values/timePeriod\n",
        "\n",
        "# Traçado das amplitudes calculadas pela FFT\n",
        "fig_fft = plt.figure(figsize=(8, 6))\n",
        "ax_fft = fig_fft.subplots(1, 1)\n",
        "ax_fft.stem(frequencies, abs(fourierTransform), use_line_collection=True)\n",
        "ax_fft.set_xlabel('Frequência [Hz]')\n",
        "ax_fft.set_ylabel('Amplitude')\n",
        "ax_fft.set_xlim(-10,300)\n",
        "ax_fft.grid(ls=':')"
      ],
      "execution_count": null,
      "outputs": []
    },
    {
      "cell_type": "code",
      "metadata": {
        "id": "q8tjX63OuEwH"
      },
      "source": [
        ""
      ],
      "execution_count": null,
      "outputs": []
    }
  ]
}